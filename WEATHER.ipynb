{
 "cells": [
  {
   "cell_type": "code",
   "execution_count": 1,
   "id": "350e731c-df48-4b30-99ac-2022b6258f18",
   "metadata": {},
   "outputs": [
    {
     "name": "stdout",
     "output_type": "stream",
     "text": [
      "Weather Data Analyzer\n",
      "---------------------\n",
      "Average Temperature: 30.428571428571427 °C\n",
      "Average Humidity: 79.0 %\n",
      "Latest Temperature: 30 °C\n",
      "Latest Humidity: 88 %\n",
      "Weather Condition: Rainy\n"
     ]
    }
   ],
   "source": [
    "\n",
    "temperatures = [30, 32, 33, 31, 29, 28, 30]  \n",
    "humidity = [75, 80, 85, 70, 65, 90, 88]      \n",
    "\n",
    "\n",
    "def average_temperature():\n",
    "    return sum(temperatures) / len(temperatures)\n",
    "\n",
    "def average_humidity():\n",
    "    return sum(humidity) / len(humidity)\n",
    "\n",
    "def weather_condition(temp, hum):\n",
    "    if hum > 85:\n",
    "        return \"Rainy\"\n",
    "    elif temp > 32:\n",
    "        return \"Hot and Sunny\"\n",
    "    elif temp < 30:\n",
    "        return \"Cool\"\n",
    "    else:\n",
    "        return \"Normal\"\n",
    "\n",
    "latest_temp = temperatures[-1]\n",
    "latest_hum = humidity[-1]\n",
    "\n",
    "print(\"Weather Data Analyzer\")\n",
    "print(\"---------------------\")\n",
    "print(\"Average Temperature:\", average_temperature(), \"°C\")\n",
    "print(\"Average Humidity:\", average_humidity(), \"%\")\n",
    "print(\"Latest Temperature:\", latest_temp, \"°C\")\n",
    "print(\"Latest Humidity:\", latest_hum, \"%\")\n",
    "print(\"Weather Condition:\", weather_condition(latest_temp, latest_hum))\n"
   ]
  }
 ],
 "metadata": {
  "kernelspec": {
   "display_name": "Python 3 (ipykernel)",
   "language": "python",
   "name": "python3"
  },
  "language_info": {
   "codemirror_mode": {
    "name": "ipython",
    "version": 3
   },
   "file_extension": ".py",
   "mimetype": "text/x-python",
   "name": "python",
   "nbconvert_exporter": "python",
   "pygments_lexer": "ipython3",
   "version": "3.13.5"
  }
 },
 "nbformat": 4,
 "nbformat_minor": 5
}
