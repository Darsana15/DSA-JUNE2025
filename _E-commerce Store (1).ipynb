{
 "cells": [
  {
   "cell_type": "code",
   "execution_count": 3,
   "id": "22f82626-1a40-4c8e-8db0-4483719c7d56",
   "metadata": {},
   "outputs": [
    {
     "name": "stdout",
     "output_type": "stream",
     "text": [
      "[{'order_id': 10, 'customer': 'Anu', 'item': 'Mouse', 'quantity': 2, 'price_per_item': 500.0, 'order_date': '2025-07-01'}, {'order_id': 23, 'customer': 'Binu', 'item': 'Keyboard', 'quantity': 1, 'price_per_item': 700.0, 'order_date': '2025-07-01'}, {'order_id': 33, 'customer': 'sinu', 'item': 'Notebook', 'quantity': 3, 'price_per_item': 50.0, 'order_date': '2025-07-02'}, {'order_id': 14, 'customer': 'vinu', 'item': 'Pen', 'quantity': 5, 'price_per_item': 20.0, 'order_date': '2025-07-02'}, {'order_id': 65, 'customer': 'Evana', 'item': 'Mouse', 'quantity': 1, 'price_per_item': 500.0, 'order_date': '2025-07-03'}, {'order_id': 36, 'customer': 'Fathima', 'item': 'Headphones', 'quantity': 1, 'price_per_item': 1200.0, 'order_date': '2025-07-03'}, {'order_id': 77, 'customer': 'George', 'item': 'Notebook', 'quantity': 2, 'price_per_item': 50.0, 'order_date': '2025-07-04'}, {'order_id': 80, 'customer': 'Hema', 'item': 'Mouse Pad', 'quantity': 1, 'price_per_item': 150.0, 'order_date': '2025-07-04'}, {'order_id': 29, 'customer': 'Ivan', 'item': 'Pen', 'quantity': 10, 'price_per_item': 20.0, 'order_date': '2025-07-05'}, {'order_id': 17, 'customer': 'Julia', 'item': 'Mouse', 'quantity': 1, 'price_per_item': 500.0, 'order_date': '2025-07-05'}]\n"
     ]
    }
   ],
   "source": [
    "sales_data = [\n",
    "    {\"order_id\": 10, \"customer\": \"Anu\", \"item\": \"Mouse\", \"quantity\": 2, \"price_per_item\": 500.0, \"order_date\": \"2025-07-01\"},\n",
    "    {\"order_id\": 23, \"customer\": \"Binu\", \"item\": \"Keyboard\", \"quantity\": 1, \"price_per_item\": 700.0, \"order_date\": \"2025-07-01\"},\n",
    "    {\"order_id\": 33, \"customer\": \"sinu\", \"item\": \"Notebook\", \"quantity\": 3, \"price_per_item\": 50.0, \"order_date\": \"2025-07-02\"},\n",
    "    {\"order_id\": 14, \"customer\": \"vinu\", \"item\": \"Pen\", \"quantity\": 5, \"price_per_item\": 20.0, \"order_date\": \"2025-07-02\"},\n",
    "    {\"order_id\": 65, \"customer\": \"Evana\", \"item\": \"Mouse\", \"quantity\": 1, \"price_per_item\": 500.0, \"order_date\": \"2025-07-03\"},\n",
    "    {\"order_id\": 36, \"customer\": \"Fathima\", \"item\": \"Headphones\", \"quantity\": 1, \"price_per_item\": 1200.0, \"order_date\": \"2025-07-03\"},\n",
    "    {\"order_id\": 77, \"customer\": \"George\", \"item\": \"Notebook\", \"quantity\": 2, \"price_per_item\": 50.0, \"order_date\": \"2025-07-04\"},\n",
    "    {\"order_id\": 80, \"customer\": \"Hema\", \"item\": \"Mouse Pad\", \"quantity\": 1, \"price_per_item\": 150.0, \"order_date\": \"2025-07-04\"},\n",
    "    {\"order_id\": 29, \"customer\": \"Ivan\", \"item\": \"Pen\", \"quantity\": 10, \"price_per_item\": 20.0, \"order_date\": \"2025-07-05\"},\n",
    "    {\"order_id\": 17, \"customer\": \"Julia\", \"item\": \"Mouse\", \"quantity\": 1, \"price_per_item\": 500.0, \"order_date\": \"2025-07-05\"},\n",
    "]\n",
    "\n",
    "print(sales_data)\n",
    "\n"
   ]
  },
  {
   "cell_type": "markdown",
   "id": "8ea6c9b7-410a-4f30-a10f-916979f5e106",
   "metadata": {},
   "source": [
    " 2.1 Total Revenue"
   ]
  },
  {
   "cell_type": "code",
   "execution_count": 11,
   "id": "fb669a8d-ec33-43a8-bab0-0bced98e590e",
   "metadata": {},
   "outputs": [
    {
     "name": "stdout",
     "output_type": "stream",
     "text": [
      "Total Revenue: ₹ 4600.0\n"
     ]
    }
   ],
   "source": [
    "total_revenue = 0\n",
    "for order in sales_data:\n",
    "    total_revenue += order['quantity'] * order['price_per_item']\n",
    "\n",
    "print(\"Total Revenue: ₹\", total_revenue)\n"
   ]
  },
  {
   "cell_type": "markdown",
   "id": "5da0bb4c-c457-447c-9466-ac911e5bc638",
   "metadata": {},
   "source": [
    " 2.2 Orders Over ₹2000"
   ]
  },
  {
   "cell_type": "code",
   "execution_count": 12,
   "id": "489afcd2-2130-421f-bdda-67642ede4877",
   "metadata": {},
   "outputs": [
    {
     "name": "stdout",
     "output_type": "stream",
     "text": [
      "Orders with value over ₹2000:\n"
     ]
    }
   ],
   "source": [
    "high_value_orders = []\n",
    "\n",
    "for order in sales_data:\n",
    "    if order['quantity'] * order['price_per_item'] > 2000:\n",
    "        high_value_orders.append(order)\n",
    "\n",
    "print(\"Orders with value over ₹2000:\")\n",
    "for order in high_value_orders:\n",
    "    print(order)"
   ]
  },
  {
   "cell_type": "markdown",
   "id": "0ece90e0-048b-47ea-b360-8533903e9410",
   "metadata": {},
   "source": [
    "2.3 Item with Highest Quantity Sold"
   ]
  },
  {
   "cell_type": "code",
   "execution_count": 13,
   "id": "a26526a0-6009-4fc6-a045-c70ac8fe8e1d",
   "metadata": {},
   "outputs": [
    {
     "name": "stdout",
     "output_type": "stream",
     "text": [
      "Most sold item: Pen\n"
     ]
    }
   ],
   "source": [
    "\n",
    "item_counts = {}\n",
    "\n",
    "for order in sales_data:\n",
    "    item = order['item']\n",
    "    qty = order['quantity']\n",
    "    item_counts[item] = item_counts.get(item, 0) + qty\n",
    "\n",
    "most_sold_item = max(item_counts, key=item_counts.get)\n",
    "print(\"Most sold item:\", most_sold_item)\n"
   ]
  },
  {
   "cell_type": "markdown",
   "id": "18c4916a-deaa-4009-bf3a-02e588154182",
   "metadata": {},
   "source": [
    "3.1 Discount Function"
   ]
  },
  {
   "cell_type": "code",
   "execution_count": 14,
   "id": "75149bba-01c3-4566-99b5-4d4ca3bc4413",
   "metadata": {},
   "outputs": [
    {
     "name": "stdout",
     "output_type": "stream",
     "text": [
      "Orders after 10% discount:\n",
      "{'order_id': 10, 'customer': 'Anu', 'item': 'Mouse', 'quantity': 2, 'price_per_item': 450.0, 'order_date': '2025-07-01'}\n",
      "{'order_id': 23, 'customer': 'Binu', 'item': 'Keyboard', 'quantity': 1, 'price_per_item': 630.0, 'order_date': '2025-07-01'}\n",
      "{'order_id': 33, 'customer': 'sinu', 'item': 'Notebook', 'quantity': 3, 'price_per_item': 45.0, 'order_date': '2025-07-02'}\n",
      "{'order_id': 14, 'customer': 'vinu', 'item': 'Pen', 'quantity': 5, 'price_per_item': 18.0, 'order_date': '2025-07-02'}\n",
      "{'order_id': 65, 'customer': 'Evana', 'item': 'Mouse', 'quantity': 1, 'price_per_item': 450.0, 'order_date': '2025-07-03'}\n",
      "{'order_id': 36, 'customer': 'Fathima', 'item': 'Headphones', 'quantity': 1, 'price_per_item': 1080.0, 'order_date': '2025-07-03'}\n",
      "{'order_id': 77, 'customer': 'George', 'item': 'Notebook', 'quantity': 2, 'price_per_item': 45.0, 'order_date': '2025-07-04'}\n",
      "{'order_id': 80, 'customer': 'Hema', 'item': 'Mouse Pad', 'quantity': 1, 'price_per_item': 135.0, 'order_date': '2025-07-04'}\n",
      "{'order_id': 29, 'customer': 'Ivan', 'item': 'Pen', 'quantity': 10, 'price_per_item': 18.0, 'order_date': '2025-07-05'}\n",
      "{'order_id': 17, 'customer': 'Julia', 'item': 'Mouse', 'quantity': 1, 'price_per_item': 450.0, 'order_date': '2025-07-05'}\n"
     ]
    }
   ],
   "source": [
    "def apply_discount(orders, discount_rate):\n",
    "    discounted = []\n",
    "    for order in orders:\n",
    "        new_order = order.copy()\n",
    "        new_order['price_per_item'] = round(new_order['price_per_item'] * (1 - discount_rate), 2)\n",
    "        discounted.append(new_order)\n",
    "    return discounted\n",
    "\n",
    "discounted_orders = apply_discount(sales_data, 0.10)\n",
    "print(\"Orders after 10% discount:\")\n",
    "for order in discounted_orders:\n",
    "    print(order)"
   ]
  },
  {
   "cell_type": "markdown",
   "id": "d590277b-e822-4cf2-ad4a-e6c1c38516fd",
   "metadata": {},
   "source": [
    "3.2 Local vs Global Variable Example"
   ]
  },
  {
   "cell_type": "code",
   "execution_count": 8,
   "id": "62344b80-b7e7-4037-94c6-a29f943c7304",
   "metadata": {},
   "outputs": [
    {
     "name": "stdout",
     "output_type": "stream",
     "text": [
      "Inside function: x = 5\n",
      "Outside function: x = 10\n"
     ]
    }
   ],
   "source": [
    "x = 10  # Global variable\n",
    "\n",
    "def show_scope():\n",
    "    x = 5  # Local variable\n",
    "    print(\"Inside function: x =\", x)\n",
    "\n",
    "show_scope()\n",
    "print(\"Outside function: x =\", x)\n"
   ]
  },
  {
   "cell_type": "markdown",
   "id": "7890a71e-9bf4-44d3-bf25-39c66d958cd6",
   "metadata": {},
   "source": [
    "4.1 Custom Iterator Class"
   ]
  },
  {
   "cell_type": "code",
   "execution_count": 9,
   "id": "bd628628-628f-414c-917c-182dcdd38767",
   "metadata": {},
   "outputs": [
    {
     "name": "stdout",
     "output_type": "stream",
     "text": [
      "Iterating orders:\n",
      "{'order_id': 10, 'customer': 'Anu', 'item': 'Mouse', 'quantity': 2, 'price_per_item': 500.0, 'order_date': '2025-07-01'}\n",
      "{'order_id': 23, 'customer': 'Binu', 'item': 'Keyboard', 'quantity': 1, 'price_per_item': 700.0, 'order_date': '2025-07-01'}\n",
      "{'order_id': 33, 'customer': 'sinu', 'item': 'Notebook', 'quantity': 3, 'price_per_item': 50.0, 'order_date': '2025-07-02'}\n",
      "{'order_id': 14, 'customer': 'vinu', 'item': 'Pen', 'quantity': 5, 'price_per_item': 20.0, 'order_date': '2025-07-02'}\n",
      "{'order_id': 65, 'customer': 'Evana', 'item': 'Mouse', 'quantity': 1, 'price_per_item': 500.0, 'order_date': '2025-07-03'}\n",
      "{'order_id': 36, 'customer': 'Fathima', 'item': 'Headphones', 'quantity': 1, 'price_per_item': 1200.0, 'order_date': '2025-07-03'}\n",
      "{'order_id': 77, 'customer': 'George', 'item': 'Notebook', 'quantity': 2, 'price_per_item': 50.0, 'order_date': '2025-07-04'}\n",
      "{'order_id': 80, 'customer': 'Hema', 'item': 'Mouse Pad', 'quantity': 1, 'price_per_item': 150.0, 'order_date': '2025-07-04'}\n",
      "{'order_id': 29, 'customer': 'Ivan', 'item': 'Pen', 'quantity': 10, 'price_per_item': 20.0, 'order_date': '2025-07-05'}\n",
      "{'order_id': 17, 'customer': 'Julia', 'item': 'Mouse', 'quantity': 1, 'price_per_item': 500.0, 'order_date': '2025-07-05'}\n"
     ]
    }
   ],
   "source": [
    "class OrderIterator:\n",
    "    def __init__(self, orders):\n",
    "        self.orders = orders\n",
    "        self.index = 0\n",
    "\n",
    "    def __iter__(self):\n",
    "        return self\n",
    "\n",
    "    def __next__(self):\n",
    "        if self.index < len(self.orders):\n",
    "            order = self.orders[self.index]\n",
    "            self.index += 1\n",
    "            return order\n",
    "        else:\n",
    "            raise StopIteration\n",
    "\n",
    "print(\"Iterating orders:\")\n",
    "for order in OrderIterator(sales_data):\n",
    "    print(order)\n"
   ]
  },
  {
   "cell_type": "markdown",
   "id": "c224aa33-3e55-4c86-b145-aea7de6f4dad",
   "metadata": {},
   "source": [
    "4.2 Group Orders by Customer"
   ]
  },
  {
   "cell_type": "code",
   "execution_count": 10,
   "id": "dd22d4ad-e6d3-47c2-9285-2e412b3a13e9",
   "metadata": {},
   "outputs": [
    {
     "name": "stdout",
     "output_type": "stream",
     "text": [
      "Grouped by customer:\n",
      "George : [{'order_id': 77, 'customer': 'George', 'item': 'Notebook', 'quantity': 2, 'price_per_item': 50.0, 'order_date': '2025-07-04'}]\n",
      "sinu : [{'order_id': 33, 'customer': 'sinu', 'item': 'Notebook', 'quantity': 3, 'price_per_item': 50.0, 'order_date': '2025-07-02'}]\n",
      "Evana : [{'order_id': 65, 'customer': 'Evana', 'item': 'Mouse', 'quantity': 1, 'price_per_item': 500.0, 'order_date': '2025-07-03'}]\n",
      "Binu : [{'order_id': 23, 'customer': 'Binu', 'item': 'Keyboard', 'quantity': 1, 'price_per_item': 700.0, 'order_date': '2025-07-01'}]\n",
      "Ivan : [{'order_id': 29, 'customer': 'Ivan', 'item': 'Pen', 'quantity': 10, 'price_per_item': 20.0, 'order_date': '2025-07-05'}]\n",
      "Julia : [{'order_id': 17, 'customer': 'Julia', 'item': 'Mouse', 'quantity': 1, 'price_per_item': 500.0, 'order_date': '2025-07-05'}]\n",
      "vinu : [{'order_id': 14, 'customer': 'vinu', 'item': 'Pen', 'quantity': 5, 'price_per_item': 20.0, 'order_date': '2025-07-02'}]\n",
      "Hema : [{'order_id': 80, 'customer': 'Hema', 'item': 'Mouse Pad', 'quantity': 1, 'price_per_item': 150.0, 'order_date': '2025-07-04'}]\n",
      "Anu : [{'order_id': 10, 'customer': 'Anu', 'item': 'Mouse', 'quantity': 2, 'price_per_item': 500.0, 'order_date': '2025-07-01'}]\n",
      "Fathima : [{'order_id': 36, 'customer': 'Fathima', 'item': 'Headphones', 'quantity': 1, 'price_per_item': 1200.0, 'order_date': '2025-07-03'}]\n"
     ]
    }
   ],
   "source": [
    "customers = {order['customer'] for order in sales_data}\n",
    "\n",
    "grouped_orders = {\n",
    "    customer: [order for order in sales_data if order['customer'] == customer]\n",
    "    for customer in customers\n",
    "}\n",
    "\n",
    "print(\"Grouped by customer:\")\n",
    "for customer, orders in grouped_orders.items():\n",
    "    print(customer, \":\", orders)\n"
   ]
  },
  {
   "cell_type": "code",
   "execution_count": null,
   "id": "09d6f58f-6f94-4ba2-a6a6-bf781096c028",
   "metadata": {},
   "outputs": [],
   "source": []
  }
 ],
 "metadata": {
  "kernelspec": {
   "display_name": "Python 3 (ipykernel)",
   "language": "python",
   "name": "python3"
  },
  "language_info": {
   "codemirror_mode": {
    "name": "ipython",
    "version": 3
   },
   "file_extension": ".py",
   "mimetype": "text/x-python",
   "name": "python",
   "nbconvert_exporter": "python",
   "pygments_lexer": "ipython3",
   "version": "3.13.5"
  }
 },
 "nbformat": 4,
 "nbformat_minor": 5
}
