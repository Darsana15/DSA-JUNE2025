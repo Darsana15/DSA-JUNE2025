{
 "cells": [
  {
   "cell_type": "code",
   "execution_count": 5,
   "id": "94063a57-7fd2-4523-91c4-a2c596fbd17d",
   "metadata": {},
   "outputs": [
    {
     "name": "stdout",
     "output_type": "stream",
     "text": [
      "\n",
      "===== Bank Account Menu =====\n",
      "1. Deposit\n",
      "2. Withdraw\n",
      "3. Check Balance\n",
      "4. Exit\n"
     ]
    },
    {
     "name": "stdin",
     "output_type": "stream",
     "text": [
      "Select an option (1-4):  1\n",
      "Enter amount to deposit:  5000.00\n"
     ]
    },
    {
     "name": "stdout",
     "output_type": "stream",
     "text": [
      "Deposited $5000.00. New Balance: $6000.00\n",
      "\n",
      "===== Bank Account Menu =====\n",
      "1. Deposit\n",
      "2. Withdraw\n",
      "3. Check Balance\n",
      "4. Exit\n"
     ]
    },
    {
     "name": "stdin",
     "output_type": "stream",
     "text": [
      "Select an option (1-4):  2\n",
      "Enter amount to withdraw:  500\n"
     ]
    },
    {
     "name": "stdout",
     "output_type": "stream",
     "text": [
      "Withdrew $500.00. New Balance: $5500.00\n",
      "\n",
      "===== Bank Account Menu =====\n",
      "1. Deposit\n",
      "2. Withdraw\n",
      "3. Check Balance\n",
      "4. Exit\n"
     ]
    },
    {
     "name": "stdin",
     "output_type": "stream",
     "text": [
      "Select an option (1-4):  3\n"
     ]
    },
    {
     "name": "stdout",
     "output_type": "stream",
     "text": [
      "Account Balance for Anu: $5500.00\n",
      "\n",
      "===== Bank Account Menu =====\n",
      "1. Deposit\n",
      "2. Withdraw\n",
      "3. Check Balance\n",
      "4. Exit\n"
     ]
    },
    {
     "name": "stdin",
     "output_type": "stream",
     "text": [
      "Select an option (1-4):  4\n"
     ]
    },
    {
     "name": "stdout",
     "output_type": "stream",
     "text": [
      "Thank you for using Bank Account Manager.\n"
     ]
    }
   ],
   "source": [
    "# Bank Account \n",
    "\n",
    "account_holder = \"Anu\"\n",
    "account_number = \"123456789\"\n",
    "account_balance = 1000.0\n",
    "\n",
    "def deposit(amount):\n",
    "    global account_balance\n",
    "    if amount > 0:\n",
    "        account_balance += amount\n",
    "        print(f\"Deposited ${amount:.2f}. New Balance: ${account_balance:.2f}\")\n",
    "    else:\n",
    "        print(\"Deposit amount must be greater than zero.\")\n",
    "\n",
    "def withdraw(amount):\n",
    "    global account_balance\n",
    "    if amount > account_balance:\n",
    "        print(\"Insufficient balance. Withdrawal denied.\")\n",
    "    elif amount <= 0:\n",
    "        print(\"Withdrawal amount must be greater than zero.\")\n",
    "    else:\n",
    "        account_balance -= amount\n",
    "        print(f\"Withdrew ${amount:.2f}. New Balance: ${account_balance:.2f}\")\n",
    "\n",
    "def check_balance():\n",
    "    print(f\"Account Balance for {account_holder}: ${account_balance:.2f}\")\n",
    "\n",
    "def bank_menu():\n",
    "    while True:\n",
    "        print(\"\\n===== Bank Account Menu =====\")\n",
    "        print(\"1. Deposit\")\n",
    "        print(\"2. Withdraw\")\n",
    "        print(\"3. Check Balance\")\n",
    "        print(\"4. Exit\")\n",
    "\n",
    "        choice = input(\"Select an option (1-4): \")\n",
    "\n",
    "        if choice == '1':\n",
    "            amount = float(input(\"Enter amount to deposit: \"))\n",
    "            deposit(amount)\n",
    "        elif choice == '2':\n",
    "            amount = float(input(\"Enter amount to withdraw: \"))\n",
    "            withdraw(amount)\n",
    "        elif choice == '3':\n",
    "            check_balance()\n",
    "        elif choice == '4':\n",
    "            print(\"Thank you for using Bank Account Manager.\")\n",
    "            break\n",
    "        else:\n",
    "            print(\"Invalid option. Please choose 1 to 4.\")\n",
    "\n",
    "bank_menu()\n"
   ]
  },
  {
   "cell_type": "code",
   "execution_count": null,
   "id": "a803e6d4-f657-4a02-b5af-f0243152df52",
   "metadata": {},
   "outputs": [],
   "source": []
  },
  {
   "cell_type": "code",
   "execution_count": null,
   "id": "da481f81-a47b-440c-a455-e5f4194242a3",
   "metadata": {},
   "outputs": [],
   "source": []
  }
 ],
 "metadata": {
  "kernelspec": {
   "display_name": "Python 3 (ipykernel)",
   "language": "python",
   "name": "python3"
  },
  "language_info": {
   "codemirror_mode": {
    "name": "ipython",
    "version": 3
   },
   "file_extension": ".py",
   "mimetype": "text/x-python",
   "name": "python",
   "nbconvert_exporter": "python",
   "pygments_lexer": "ipython3",
   "version": "3.13.5"
  }
 },
 "nbformat": 4,
 "nbformat_minor": 5
}
